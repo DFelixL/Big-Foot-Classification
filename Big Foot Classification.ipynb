{
  "nbformat": 4,
  "nbformat_minor": 0,
  "metadata": {
    "colab": {
      "provenance": []
    },
    "kernelspec": {
      "name": "python3",
      "display_name": "Python 3"
    },
    "language_info": {
      "name": "python"
    }
  },
  "cells": [
    {
      "cell_type": "code",
      "source": [
        "%pip install pyspark"
      ],
      "metadata": {
        "colab": {
          "base_uri": "https://localhost:8080/"
        },
        "id": "VSiSqLCfi3-o",
        "outputId": "f0588beb-f01b-40ec-f9f1-70f5073452d4"
      },
      "execution_count": null,
      "outputs": [
        {
          "output_type": "stream",
          "name": "stdout",
          "text": [
            "Requirement already satisfied: pyspark in /usr/local/lib/python3.10/dist-packages (3.5.1)\n",
            "Requirement already satisfied: py4j==0.10.9.7 in /usr/local/lib/python3.10/dist-packages (from pyspark) (0.10.9.7)\n"
          ]
        }
      ]
    },
    {
      "cell_type": "code",
      "execution_count": null,
      "metadata": {
        "id": "BqExlmd9d30s"
      },
      "outputs": [],
      "source": [
        "from pyspark.sql import SparkSession\n",
        "from pyspark.sql.functions import *\n",
        "from pyspark.ml.feature import VectorAssembler, StandardScaler\n",
        "from pyspark.ml.classification import LogisticRegression\n",
        "from pyspark.ml.evaluation import BinaryClassificationEvaluator"
      ]
    },
    {
      "cell_type": "markdown",
      "source": [
        "**LOAD DATA**"
      ],
      "metadata": {
        "id": "P1qQVYOemBCk"
      }
    },
    {
      "cell_type": "code",
      "source": [
        "spark = SparkSession.builder.getOrCreate()\n",
        "\n",
        "df_train = spark.read.option(\"inferSchema\", \"true\").csv(\"BigFootTesting.csv\", header=True)\n",
        "df_test = spark.read.option(\"inferschema\", \"true\").csv(\"BigFootTesting.csv\", header=True)\n",
        "\n",
        "df_train.show(5)\n",
        "df_test.show(5)"
      ],
      "metadata": {
        "colab": {
          "base_uri": "https://localhost:8080/"
        },
        "id": "9RVfCRhJiy1P",
        "outputId": "7a5e9dd9-b2a9-420c-ffe1-a5840313ab60"
      },
      "execution_count": null,
      "outputs": [
        {
          "output_type": "stream",
          "name": "stdout",
          "text": [
            "+---------+------+------+---------+-----------+\n",
            "|fur_color|height|weight|eye_color|prehistoric|\n",
            "+---------+------+------+---------+-----------+\n",
            "|   calico|182 cm| 69 kg|    brown|      false|\n",
            "|    white|173 cm|236 kg|    black|       true|\n",
            "|      red|240 cm|205 kg|     blue|       true|\n",
            "|   orange|195 cm| 67 kg|    black|      false|\n",
            "|dark grey|224 cm|289 kg|    black|       true|\n",
            "+---------+------+------+---------+-----------+\n",
            "only showing top 5 rows\n",
            "\n",
            "+---------+------+------+---------+-----------+\n",
            "|fur_color|height|weight|eye_color|prehistoric|\n",
            "+---------+------+------+---------+-----------+\n",
            "|   calico|182 cm| 69 kg|    brown|      false|\n",
            "|    white|173 cm|236 kg|    black|       true|\n",
            "|      red|240 cm|205 kg|     blue|       true|\n",
            "|   orange|195 cm| 67 kg|    black|      false|\n",
            "|dark grey|224 cm|289 kg|    black|       true|\n",
            "+---------+------+------+---------+-----------+\n",
            "only showing top 5 rows\n",
            "\n"
          ]
        }
      ]
    },
    {
      "cell_type": "markdown",
      "source": [
        "**SELECT FEATURES**"
      ],
      "metadata": {
        "id": "MY1xrdG_mbzK"
      }
    },
    {
      "cell_type": "code",
      "source": [
        "df_train = df_train.select(\"fur_color\", \"eye_color\", \"prehistoric\")\n",
        "df_test = df_test.select(\"fur_color\", \"eye_color\", \"prehistoric\")"
      ],
      "metadata": {
        "id": "u8ErsLSOkuY0"
      },
      "execution_count": null,
      "outputs": []
    },
    {
      "cell_type": "markdown",
      "source": [
        "**DATA PREPROCESSING**"
      ],
      "metadata": {
        "id": "qtyMF3-XmfRe"
      }
    },
    {
      "cell_type": "code",
      "source": [
        "df_train = df_train.na.drop()\n",
        "df_test = df_test.na.drop()"
      ],
      "metadata": {
        "id": "0LOz3KBslseq"
      },
      "execution_count": null,
      "outputs": []
    },
    {
      "cell_type": "markdown",
      "source": [
        "**TRANSFORM DATA**"
      ],
      "metadata": {
        "id": "-6dRZXwunEQ8"
      }
    },
    {
      "cell_type": "code",
      "source": [
        "df_train = df_train.withColumn(\"fur_color\",\n",
        "                               when(df_train[\"fur_color\"] == \"white\", 0).\n",
        "                               when(df_train[\"fur_color\"] == \"grey\", 1).\n",
        "                               when(df_train[\"fur_color\"] == \"red\", 2).\n",
        "                               when(df_train[\"fur_color\"] == \"orange\", 3).\n",
        "                               when(df_train[\"fur_color\"] == \"calico\", 4).\n",
        "                               when(df_train[\"fur_color\"] == \"brown\", 5).\n",
        "                               when(df_train[\"fur_color\"] == \"black\", 6).\n",
        "                               when(df_train[\"fur_color\"] == \"dark grey\", 7))\n",
        "\n",
        "df_train = df_train.withColumn(\"eye_color\", when(df_train[\"eye_color\"] == \"green\", 0).\n",
        "                                            when(df_train[\"eye_color\"] == \"blue\", 1).\n",
        "                                            when(df_train[\"eye_color\"] == \"black\", 2).\n",
        "                                            when(df_train[\"eye_color\"] == \"brown\", 3))\n",
        "\n",
        "df_train = df_train.withColumn(\"prehistoric\", when(df_train[\"prehistoric\"] == \"true\", 0).\n",
        "                                                  when(df_train[\"prehistoric\"] == \"false\", 1))\n",
        "\n",
        "df_test = df_test.withColumn(\"fur_color\",\n",
        "                             when(df_test[\"fur_color\"] == \"white\", 0).\n",
        "                             when(df_test[\"fur_color\"] == \"grey\", 1).\n",
        "                             when(df_test[\"fur_color\"] == \"red\", 2).\n",
        "                             when(df_test[\"fur_color\"] == \"orange\", 3).\n",
        "                             when(df_test[\"fur_color\"] == \"calico\", 4).\n",
        "                             when(df_test[\"fur_color\"] == \"brown\", 5).\n",
        "                             when(df_test[\"fur_color\"] == \"black\", 6).\n",
        "                             when(df_test[\"fur_color\"] == \"dark grey\", 7))\n",
        "\n",
        "df_test = df_test.withColumn(\"eye_color\", when(df_test[\"eye_color\"] == \"green\", 0).\n",
        "                                            when(df_test[\"eye_color\"] == \"blue\", 1).\n",
        "                                            when(df_test[\"eye_color\"] == \"black\", 2).\n",
        "                                            when(df_test[\"eye_color\"] == \"brown\", 3))\n",
        "\n",
        "df_test = df_test.withColumn(\"prehistoric\", when(df_test[\"prehistoric\"] == \"true\", 0).\n",
        "                                                when(df_test[\"prehistoric\"] == \"false\", 1))"
      ],
      "metadata": {
        "id": "zadF-Biyl0F-"
      },
      "execution_count": null,
      "outputs": []
    },
    {
      "cell_type": "markdown",
      "source": [
        "**NORMALIZATION**"
      ],
      "metadata": {
        "id": "yq-MJ2UABj_E"
      }
    },
    {
      "cell_type": "code",
      "source": [
        "cols = df_train.columns\n",
        "cols.remove(\"prehistoric\")\n",
        "df_train = VectorAssembler(inputCols=cols, outputCol=\"Features\").transform(df_train)\n",
        "\n",
        "scaler = StandardScaler(inputCol=\"Features\", outputCol=\"Scaled_Features\")\n",
        "df_train = scaler.fit(df_train).transform(df_train)\n",
        "\n",
        "df_train.select(\"prehistoric\", \"Scaled_Features\").show(10, False)"
      ],
      "metadata": {
        "colab": {
          "base_uri": "https://localhost:8080/"
        },
        "id": "zpQG2mqg-8_t",
        "outputId": "06e665be-d447-463f-a7ae-b2c76ae91d10"
      },
      "execution_count": null,
      "outputs": [
        {
          "output_type": "stream",
          "name": "stdout",
          "text": [
            "+-----------+---------------------------------------+\n",
            "|prehistoric|Scaled_Features                        |\n",
            "+-----------+---------------------------------------+\n",
            "|1          |[1.8902446056433315,2.631407216175239] |\n",
            "|0          |[0.0,1.754271477450159]                |\n",
            "|0          |[0.9451223028216658,0.8771357387250796]|\n",
            "|1          |[1.4176834542324985,1.754271477450159] |\n",
            "|0          |[3.30792805987583,1.754271477450159]   |\n",
            "|1          |[0.4725611514108329,0.0]               |\n",
            "|0          |[3.30792805987583,1.754271477450159]   |\n",
            "|1          |[2.3628057570541645,2.631407216175239] |\n",
            "|1          |[2.3628057570541645,0.8771357387250796]|\n",
            "|1          |[1.4176834542324985,1.754271477450159] |\n",
            "+-----------+---------------------------------------+\n",
            "only showing top 10 rows\n",
            "\n"
          ]
        }
      ]
    },
    {
      "cell_type": "code",
      "source": [
        "cols = df_test.columns\n",
        "cols.remove(\"prehistoric\")\n",
        "df_test = VectorAssembler(inputCols=cols, outputCol=\"Features\").transform(df_test)\n",
        "\n",
        "scaler = StandardScaler(inputCol=\"Features\", outputCol=\"Scaled_Features\")\n",
        "df_test = scaler.fit(df_test).transform(df_test)\n",
        "\n",
        "df_test.select(\"prehistoric\", \"Scaled_Features\").show(10, False)"
      ],
      "metadata": {
        "id": "8w4WpxlIFO5k",
        "colab": {
          "base_uri": "https://localhost:8080/"
        },
        "outputId": "c2450625-aa4c-403d-d96c-eb9914debf03"
      },
      "execution_count": null,
      "outputs": [
        {
          "output_type": "stream",
          "name": "stdout",
          "text": [
            "+-----------+---------------------------------------+\n",
            "|prehistoric|Scaled_Features                        |\n",
            "+-----------+---------------------------------------+\n",
            "|1          |[1.8902446056433315,2.631407216175239] |\n",
            "|0          |[0.0,1.754271477450159]                |\n",
            "|0          |[0.9451223028216658,0.8771357387250796]|\n",
            "|1          |[1.4176834542324985,1.754271477450159] |\n",
            "|0          |[3.30792805987583,1.754271477450159]   |\n",
            "|1          |[0.4725611514108329,0.0]               |\n",
            "|0          |[3.30792805987583,1.754271477450159]   |\n",
            "|1          |[2.3628057570541645,2.631407216175239] |\n",
            "|1          |[2.3628057570541645,0.8771357387250796]|\n",
            "|1          |[1.4176834542324985,1.754271477450159] |\n",
            "+-----------+---------------------------------------+\n",
            "only showing top 10 rows\n",
            "\n"
          ]
        }
      ]
    },
    {
      "cell_type": "markdown",
      "source": [
        "**MODEL**"
      ],
      "metadata": {
        "id": "UduCa1ESZsLv"
      }
    },
    {
      "cell_type": "code",
      "source": [
        "model = LogisticRegression(featuresCol=\"Scaled_Features\", labelCol=\"prehistoric\", maxIter=10).transform(df)"
      ],
      "metadata": {
        "id": "0qGwzVMZZq7l"
      },
      "execution_count": null,
      "outputs": []
    },
    {
      "cell_type": "code",
      "source": [
        "prediction = model.transform(df_test)\n",
        "\n",
        "prediction.select(\"Scaled_features\", \"prehistoric\", \"Prediction\").show(15, False)\n",
        "\n",
        "# Accuracy of the model\n",
        "evaluator = BinaryClassificationEvaluator(labelCol = \"prehistoric\")\n",
        "print(\"Accuracy: {}%\".format(evaluator.evaluate(prediction) * 100))"
      ],
      "metadata": {
        "colab": {
          "base_uri": "https://localhost:8080/"
        },
        "id": "rhXneBA-Zwiq",
        "outputId": "650b4911-c0d4-4197-f605-38cea3277bcb"
      },
      "execution_count": null,
      "outputs": [
        {
          "output_type": "stream",
          "name": "stdout",
          "text": [
            "+---------------------------------------+-----------+----------+\n",
            "|Scaled_features                        |prehistoric|Prediction|\n",
            "+---------------------------------------+-----------+----------+\n",
            "|[1.8902446056433315,2.631407216175239] |1          |0.0       |\n",
            "|[0.0,1.754271477450159]                |0          |0.0       |\n",
            "|[0.9451223028216658,0.8771357387250796]|0          |0.0       |\n",
            "|[1.4176834542324985,1.754271477450159] |1          |0.0       |\n",
            "|[3.30792805987583,1.754271477450159]   |0          |1.0       |\n",
            "|[0.4725611514108329,0.0]               |1          |0.0       |\n",
            "|[3.30792805987583,1.754271477450159]   |0          |1.0       |\n",
            "|[2.3628057570541645,2.631407216175239] |1          |0.0       |\n",
            "|[2.3628057570541645,0.8771357387250796]|1          |0.0       |\n",
            "|[1.4176834542324985,1.754271477450159] |1          |0.0       |\n",
            "|[1.8902446056433315,0.0]               |1          |0.0       |\n",
            "|[3.30792805987583,0.8771357387250796]  |1          |1.0       |\n",
            "|[1.8902446056433315,0.8771357387250796]|0          |0.0       |\n",
            "|[1.8902446056433315,2.631407216175239] |1          |0.0       |\n",
            "|[1.8902446056433315,0.0]               |1          |0.0       |\n",
            "+---------------------------------------+-----------+----------+\n",
            "only showing top 15 rows\n",
            "\n",
            "Accuracy: 60.897182851485645%\n"
          ]
        }
      ]
    }
  ]
}